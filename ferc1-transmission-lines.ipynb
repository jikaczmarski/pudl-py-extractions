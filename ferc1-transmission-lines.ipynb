{
 "cells": [
  {
   "cell_type": "markdown",
   "metadata": {},
   "source": [
    "# ⚡️ Extracting Transmission Line Reporting Data from FERC1\n",
    "\n",
    "At the request of Shivani, I'm extracting FERC1 tranmission line expenditure data."
   ]
  },
  {
   "cell_type": "markdown",
   "metadata": {},
   "source": [
    "# 🔌 Connect to the database"
   ]
  },
  {
   "cell_type": "code",
   "execution_count": 1,
   "metadata": {},
   "outputs": [],
   "source": [
    "# Import Packages\n",
    "import os\n",
    "import polars as pl\n",
    "import ibis\n",
    "\n",
    "# Connect to the PUDL SQLite Database\n",
    "db_path = '/Users/jikaczmarski/acep/warehouse/federal-electric-sector/pudl.sqlite'\n",
    "pudl = ibis.sqlite.connect(db_path)"
   ]
  },
  {
   "cell_type": "markdown",
   "metadata": {},
   "source": [
    "# 🔋 Grab the transmission line data"
   ]
  },
  {
   "cell_type": "code",
   "execution_count": 2,
   "metadata": {},
   "outputs": [],
   "source": [
    "ferc1_transmission_expenditures = pudl.table(\"core_ferc1__yearly_transmission_lines_sched422\")\n",
    "f1_trans = ferc1_transmission_expenditures.to_polars()"
   ]
  },
  {
   "cell_type": "code",
   "execution_count": 3,
   "metadata": {},
   "outputs": [
    {
     "data": {
      "text/html": [
       "<div><style>\n",
       ".dataframe > thead > tr,\n",
       ".dataframe > tbody > tr {\n",
       "  text-align: right;\n",
       "  white-space: pre-wrap;\n",
       "}\n",
       "</style>\n",
       "<small>shape: (5, 19)</small><table border=\"1\" class=\"dataframe\"><thead><tr><th>record_id</th><th>utility_id_ferc1</th><th>report_year</th><th>start_point</th><th>end_point</th><th>operating_voltage_kv</th><th>designed_voltage_kv</th><th>supporting_structure_type</th><th>transmission_line_length_miles</th><th>transmission_line_and_structures_length_miles</th><th>num_transmission_circuits</th><th>conductor_size_and_material</th><th>capex_land</th><th>capex_other</th><th>capex_total</th><th>opex_operations</th><th>opex_maintenance</th><th>opex_rents</th><th>opex_total</th></tr><tr><td>str</td><td>i64</td><td>i64</td><td>str</td><td>str</td><td>f64</td><td>f64</td><td>str</td><td>f64</td><td>f64</td><td>i64</td><td>str</td><td>f64</td><td>f64</td><td>f64</td><td>f64</td><td>f64</td><td>f64</td><td>f64</td></tr></thead><tbody><tr><td>&quot;f1_xmssn_line_1994_12_2_0_1&quot;</td><td>294</td><td>1994</td><td>&quot;South Bessemer TS&quot;</td><td>&quot;Snowdoun TS&quot;</td><td>500.0</td><td>0.0</td><td>&quot;Tower&quot;</td><td>92.0</td><td>0.0</td><td>1</td><td>null</td><td>null</td><td>null</td><td>null</td><td>null</td><td>null</td><td>null</td><td>null</td></tr><tr><td>&quot;f1_xmssn_line_1994_12_2_0_2&quot;</td><td>294</td><td>1994</td><td>&quot;Miller Steam Plant&quot;</td><td>&quot;Mississippi St.Line (TVA)&quot;</td><td>500.0</td><td>0.0</td><td>&quot;Tower&quot;</td><td>71.86</td><td>0.0</td><td>1</td><td>null</td><td>null</td><td>null</td><td>null</td><td>null</td><td>null</td><td>null</td><td>null</td></tr><tr><td>&quot;f1_xmssn_line_1994_12_2_0_3&quot;</td><td>294</td><td>1994</td><td>&quot;Miller Steam Plant&quot;</td><td>&quot;Arkadelphia (TVA)&quot;</td><td>500.0</td><td>0.0</td><td>&quot;Tower&quot;</td><td>23.27</td><td>0.0</td><td>1</td><td>null</td><td>null</td><td>null</td><td>null</td><td>null</td><td>null</td><td>null</td><td>null</td></tr><tr><td>&quot;f1_xmssn_line_1994_12_2_0_4&quot;</td><td>294</td><td>1994</td><td>&quot;Miller Steam Plant&quot;</td><td>&quot;South Bessemer&quot;</td><td>500.0</td><td>0.0</td><td>&quot;Tower&quot;</td><td>30.82</td><td>0.0</td><td>1</td><td>null</td><td>null</td><td>null</td><td>null</td><td>null</td><td>null</td><td>null</td><td>null</td></tr><tr><td>&quot;f1_xmssn_line_1994_12_2_0_5&quot;</td><td>294</td><td>1994</td><td>&quot;Miller Steam Plant&quot;</td><td>&quot;Clay TS&quot;</td><td>230.0</td><td>0.0</td><td>&quot;Tower&quot;</td><td>31.58</td><td>0.0</td><td>1</td><td>null</td><td>null</td><td>null</td><td>null</td><td>null</td><td>null</td><td>null</td><td>null</td></tr></tbody></table></div>"
      ],
      "text/plain": [
       "shape: (5, 19)\n",
       "┌───────────┬───────────┬───────────┬───────────┬───┬───────────┬───────────┬───────────┬──────────┐\n",
       "│ record_id ┆ utility_i ┆ report_ye ┆ start_poi ┆ … ┆ opex_oper ┆ opex_main ┆ opex_rent ┆ opex_tot │\n",
       "│ ---       ┆ d_ferc1   ┆ ar        ┆ nt        ┆   ┆ ations    ┆ tenance   ┆ s         ┆ al       │\n",
       "│ str       ┆ ---       ┆ ---       ┆ ---       ┆   ┆ ---       ┆ ---       ┆ ---       ┆ ---      │\n",
       "│           ┆ i64       ┆ i64       ┆ str       ┆   ┆ f64       ┆ f64       ┆ f64       ┆ f64      │\n",
       "╞═══════════╪═══════════╪═══════════╪═══════════╪═══╪═══════════╪═══════════╪═══════════╪══════════╡\n",
       "│ f1_xmssn_ ┆ 294       ┆ 1994      ┆ South     ┆ … ┆ null      ┆ null      ┆ null      ┆ null     │\n",
       "│ line_1994 ┆           ┆           ┆ Bessemer  ┆   ┆           ┆           ┆           ┆          │\n",
       "│ _12_2_0_1 ┆           ┆           ┆ TS        ┆   ┆           ┆           ┆           ┆          │\n",
       "│ f1_xmssn_ ┆ 294       ┆ 1994      ┆ Miller    ┆ … ┆ null      ┆ null      ┆ null      ┆ null     │\n",
       "│ line_1994 ┆           ┆           ┆ Steam     ┆   ┆           ┆           ┆           ┆          │\n",
       "│ _12_2_0_2 ┆           ┆           ┆ Plant     ┆   ┆           ┆           ┆           ┆          │\n",
       "│ f1_xmssn_ ┆ 294       ┆ 1994      ┆ Miller    ┆ … ┆ null      ┆ null      ┆ null      ┆ null     │\n",
       "│ line_1994 ┆           ┆           ┆ Steam     ┆   ┆           ┆           ┆           ┆          │\n",
       "│ _12_2_0_3 ┆           ┆           ┆ Plant     ┆   ┆           ┆           ┆           ┆          │\n",
       "│ f1_xmssn_ ┆ 294       ┆ 1994      ┆ Miller    ┆ … ┆ null      ┆ null      ┆ null      ┆ null     │\n",
       "│ line_1994 ┆           ┆           ┆ Steam     ┆   ┆           ┆           ┆           ┆          │\n",
       "│ _12_2_0_4 ┆           ┆           ┆ Plant     ┆   ┆           ┆           ┆           ┆          │\n",
       "│ f1_xmssn_ ┆ 294       ┆ 1994      ┆ Miller    ┆ … ┆ null      ┆ null      ┆ null      ┆ null     │\n",
       "│ line_1994 ┆           ┆           ┆ Steam     ┆   ┆           ┆           ┆           ┆          │\n",
       "│ _12_2_0_5 ┆           ┆           ┆ Plant     ┆   ┆           ┆           ┆           ┆          │\n",
       "└───────────┴───────────┴───────────┴───────────┴───┴───────────┴───────────┴───────────┴──────────┘"
      ]
     },
     "execution_count": 3,
     "metadata": {},
     "output_type": "execute_result"
    }
   ],
   "source": [
    "f1_trans.head()"
   ]
  },
  {
   "cell_type": "markdown",
   "metadata": {},
   "source": [
    "# 🗻 Filter by Chugach Electric Association, Inc."
   ]
  },
  {
   "cell_type": "markdown",
   "metadata": {},
   "source": [
    "## 🔎 Finding Chugach in the data"
   ]
  },
  {
   "cell_type": "code",
   "execution_count": 4,
   "metadata": {},
   "outputs": [
    {
     "data": {
      "text/html": [
       "<div><style>\n",
       ".dataframe > thead > tr,\n",
       ".dataframe > tbody > tr {\n",
       "  text-align: right;\n",
       "  white-space: pre-wrap;\n",
       "}\n",
       "</style>\n",
       "<small>shape: (5, 3)</small><table border=\"1\" class=\"dataframe\"><thead><tr><th>utility_id_ferc1</th><th>utility_name_ferc1</th><th>utility_id_pudl</th></tr><tr><td>i64</td><td>str</td><td>i64</td></tr></thead><tbody><tr><td>1</td><td>&quot;missing respondent 0&quot;</td><td>6757</td></tr><tr><td>2</td><td>&quot;Blackstone Valley Electric Com…</td><td>44</td></tr><tr><td>3</td><td>&quot;Boston Edison Company&quot;</td><td>45</td></tr><tr><td>4</td><td>&quot;Cambridge Electric Light Compa…</td><td>50</td></tr><tr><td>5</td><td>&quot;CANAL ELECTRIC COMPANY&quot;</td><td>51</td></tr></tbody></table></div>"
      ],
      "text/plain": [
       "shape: (5, 3)\n",
       "┌──────────────────┬─────────────────────────────────┬─────────────────┐\n",
       "│ utility_id_ferc1 ┆ utility_name_ferc1              ┆ utility_id_pudl │\n",
       "│ ---              ┆ ---                             ┆ ---             │\n",
       "│ i64              ┆ str                             ┆ i64             │\n",
       "╞══════════════════╪═════════════════════════════════╪═════════════════╡\n",
       "│ 1                ┆ missing respondent 0            ┆ 6757            │\n",
       "│ 2                ┆ Blackstone Valley Electric Com… ┆ 44              │\n",
       "│ 3                ┆ Boston Edison Company           ┆ 45              │\n",
       "│ 4                ┆ Cambridge Electric Light Compa… ┆ 50              │\n",
       "│ 5                ┆ CANAL ELECTRIC COMPANY          ┆ 51              │\n",
       "└──────────────────┴─────────────────────────────────┴─────────────────┘"
      ]
     },
     "execution_count": 4,
     "metadata": {},
     "output_type": "execute_result"
    }
   ],
   "source": [
    "ferc1_id = pudl.table(\"core_pudl__assn_ferc1_pudl_utilities\")\n",
    "ferc1_id = ferc1_id.to_polars()\n",
    "ferc1_id.head()"
   ]
  },
  {
   "cell_type": "code",
   "execution_count": 5,
   "metadata": {},
   "outputs": [
    {
     "name": "stderr",
     "output_type": "stream",
     "text": [
      "/var/folders/5p/crts39y53l1gf5kjc_xvxcb0psl3b4/T/ipykernel_20326/982905930.py:1: DeprecationWarning: The `polars.type_aliases` module is deprecated. The type aliases have moved to the `polars._typing` module to explicitly mark them as private. Please define your own type aliases, or temporarily import from the `polars._typing` module. A public `polars.typing` module will be added in the future.\n",
      "  from polars_fuzzy_match import fuzzy_match_score\n"
     ]
    },
    {
     "data": {
      "text/html": [
       "<div><style>\n",
       ".dataframe > thead > tr,\n",
       ".dataframe > tbody > tr {\n",
       "  text-align: right;\n",
       "  white-space: pre-wrap;\n",
       "}\n",
       "</style>\n",
       "<small>shape: (2, 4)</small><table border=\"1\" class=\"dataframe\"><thead><tr><th>utility_id_ferc1</th><th>utility_name_ferc1</th><th>utility_id_pudl</th><th>score</th></tr><tr><td>i64</td><td>str</td><td>i64</td><td>u32</td></tr></thead><tbody><tr><td>393</td><td>&quot;Chugach Electric Association, …</td><td>63</td><td>192</td></tr><tr><td>264</td><td>&quot;Fitchburg Gas and Electric Lig…</td><td>119</td><td>107</td></tr></tbody></table></div>"
      ],
      "text/plain": [
       "shape: (2, 4)\n",
       "┌──────────────────┬─────────────────────────────────┬─────────────────┬───────┐\n",
       "│ utility_id_ferc1 ┆ utility_name_ferc1              ┆ utility_id_pudl ┆ score │\n",
       "│ ---              ┆ ---                             ┆ ---             ┆ ---   │\n",
       "│ i64              ┆ str                             ┆ i64             ┆ u32   │\n",
       "╞══════════════════╪═════════════════════════════════╪═════════════════╪═══════╡\n",
       "│ 393              ┆ Chugach Electric Association, … ┆ 63              ┆ 192   │\n",
       "│ 264              ┆ Fitchburg Gas and Electric Lig… ┆ 119             ┆ 107   │\n",
       "└──────────────────┴─────────────────────────────────┴─────────────────┴───────┘"
      ]
     },
     "execution_count": 5,
     "metadata": {},
     "output_type": "execute_result"
    }
   ],
   "source": [
    "from polars_fuzzy_match import fuzzy_match_score\n",
    "\n",
    "pattern = 'chugach'\n",
    "fuzzy_search = (\n",
    "    ferc1_id.with_columns(\n",
    "        score=fuzzy_match_score(\n",
    "            pl.col('utility_name_ferc1'),\n",
    "            pattern,\n",
    "        )\n",
    "    )\n",
    "    .filter(pl.col('score').is_not_null())\n",
    "    .sort(by='score', descending=True)\n",
    ")\n",
    "fuzzy_search"
   ]
  },
  {
   "cell_type": "markdown",
   "metadata": {},
   "source": [
    "# 🧮 Filter by Chugach Data"
   ]
  },
  {
   "cell_type": "code",
   "execution_count": 6,
   "metadata": {},
   "outputs": [
    {
     "data": {
      "text/html": [
       "<div><style>\n",
       ".dataframe > thead > tr,\n",
       ".dataframe > tbody > tr {\n",
       "  text-align: right;\n",
       "  white-space: pre-wrap;\n",
       "}\n",
       "</style>\n",
       "<small>shape: (1_482, 19)</small><table border=\"1\" class=\"dataframe\"><thead><tr><th>record_id</th><th>utility_id_ferc1</th><th>report_year</th><th>start_point</th><th>end_point</th><th>operating_voltage_kv</th><th>designed_voltage_kv</th><th>supporting_structure_type</th><th>transmission_line_length_miles</th><th>transmission_line_and_structures_length_miles</th><th>num_transmission_circuits</th><th>conductor_size_and_material</th><th>capex_land</th><th>capex_other</th><th>capex_total</th><th>opex_operations</th><th>opex_maintenance</th><th>opex_rents</th><th>opex_total</th></tr><tr><td>str</td><td>i64</td><td>i64</td><td>str</td><td>str</td><td>f64</td><td>f64</td><td>str</td><td>f64</td><td>f64</td><td>i64</td><td>str</td><td>f64</td><td>f64</td><td>f64</td><td>f64</td><td>f64</td><td>f64</td><td>f64</td></tr></thead><tbody><tr><td>&quot;f1_xmssn_line_1994_12_202_0_1&quot;</td><td>393</td><td>1994</td><td>&quot;Beluga&quot;</td><td>&quot;Point MacKenzie&quot;</td><td>230.0</td><td>230.0</td><td>&quot;Tower&quot;</td><td>42.5</td><td>0.0</td><td>1</td><td>null</td><td>null</td><td>null</td><td>null</td><td>null</td><td>null</td><td>null</td><td>null</td></tr><tr><td>&quot;f1_xmssn_line_1994_12_202_0_2&quot;</td><td>393</td><td>1994</td><td>&quot;Beluga&quot;</td><td>&quot;Point MacKenzie&quot;</td><td>230.0</td><td>230.0</td><td>&quot;Tower&quot;</td><td>42.5</td><td>0.0</td><td>1</td><td>null</td><td>null</td><td>null</td><td>null</td><td>null</td><td>null</td><td>null</td><td>null</td></tr><tr><td>&quot;f1_xmssn_line_1994_12_202_0_3&quot;</td><td>393</td><td>1994</td><td>&quot;Beluga&quot;</td><td>&quot;Point MacKenzie&quot;</td><td>138.0</td><td>230.0</td><td>&quot;Tower&quot;</td><td>42.5</td><td>0.0</td><td>1</td><td>null</td><td>null</td><td>null</td><td>null</td><td>null</td><td>null</td><td>null</td><td>null</td></tr><tr><td>&quot;f1_xmssn_line_1994_12_202_0_4&quot;</td><td>393</td><td>1994</td><td>&quot;Point MacKenzie&quot;</td><td>&quot;Teeland&quot;</td><td>230.0</td><td>230.0</td><td>&quot;Tower&quot;</td><td>26.0</td><td>0.0</td><td>1</td><td>null</td><td>null</td><td>null</td><td>null</td><td>null</td><td>null</td><td>null</td><td>null</td></tr><tr><td>&quot;f1_xmssn_line_1994_12_202_0_5&quot;</td><td>393</td><td>1994</td><td>&quot;Point MacKenzie&quot;</td><td>&quot;W. Terminal&quot;</td><td>230.0</td><td>230.0</td><td>&quot;Tower&quot;</td><td>7.3</td><td>0.0</td><td>1</td><td>null</td><td>null</td><td>null</td><td>null</td><td>null</td><td>null</td><td>null</td><td>null</td></tr><tr><td>&hellip;</td><td>&hellip;</td><td>&hellip;</td><td>&hellip;</td><td>&hellip;</td><td>&hellip;</td><td>&hellip;</td><td>&hellip;</td><td>&hellip;</td><td>&hellip;</td><td>&hellip;</td><td>&hellip;</td><td>&hellip;</td><td>&hellip;</td><td>&hellip;</td><td>&hellip;</td><td>&hellip;</td><td>&hellip;</td><td>&hellip;</td></tr><tr><td>&quot;transmission_line_statistics_4…</td><td>393</td><td>2021</td><td>null</td><td>null</td><td>138.0</td><td>138.0</td><td>&quot;Wood Pole&quot;</td><td>null</td><td>0.72</td><td>null</td><td>null</td><td>null</td><td>null</td><td>null</td><td>null</td><td>null</td><td>null</td><td>null</td></tr><tr><td>&quot;transmission_line_statistics_4…</td><td>393</td><td>2021</td><td>&quot;Postmark&quot;</td><td>&quot;Postmark Jct&quot;</td><td>138.0</td><td>138.0</td><td>&quot;Wood Pole&quot;</td><td>0.72</td><td>null</td><td>2</td><td>null</td><td>null</td><td>null</td><td>null</td><td>null</td><td>null</td><td>null</td><td>null</td></tr><tr><td>&quot;transmission_line_statistics_4…</td><td>393</td><td>2021</td><td>&quot;36th Jct&quot;</td><td>&quot;International Jct&quot;</td><td>138.0</td><td>138.0</td><td>&quot;Steel Pole&quot;</td><td>1.08</td><td>null</td><td>1</td><td>null</td><td>null</td><td>null</td><td>null</td><td>null</td><td>null</td><td>null</td><td>null</td></tr><tr><td>&quot;transmission_line_statistics_4…</td><td>393</td><td>2022</td><td>null</td><td>null</td><td>null</td><td>null</td><td>null</td><td>28.0</td><td>null</td><td>null</td><td>null</td><td>null</td><td>null</td><td>1.8112587e7</td><td>null</td><td>null</td><td>null</td><td>1.154643e6</td></tr><tr><td>&quot;transmission_line_statistics_4…</td><td>393</td><td>2022</td><td>&quot;System Total&quot;</td><td>null</td><td>115.0</td><td>null</td><td>&quot;Single Pole&quot;</td><td>28.0</td><td>null</td><td>null</td><td>null</td><td>1.250049e6</td><td>1.6862538e7</td><td>1.8112587e7</td><td>1.149875e6</td><td>4768.0</td><td>null</td><td>1.154643e6</td></tr></tbody></table></div>"
      ],
      "text/plain": [
       "shape: (1_482, 19)\n",
       "┌───────────┬───────────┬───────────┬───────────┬───┬───────────┬───────────┬───────────┬──────────┐\n",
       "│ record_id ┆ utility_i ┆ report_ye ┆ start_poi ┆ … ┆ opex_oper ┆ opex_main ┆ opex_rent ┆ opex_tot │\n",
       "│ ---       ┆ d_ferc1   ┆ ar        ┆ nt        ┆   ┆ ations    ┆ tenance   ┆ s         ┆ al       │\n",
       "│ str       ┆ ---       ┆ ---       ┆ ---       ┆   ┆ ---       ┆ ---       ┆ ---       ┆ ---      │\n",
       "│           ┆ i64       ┆ i64       ┆ str       ┆   ┆ f64       ┆ f64       ┆ f64       ┆ f64      │\n",
       "╞═══════════╪═══════════╪═══════════╪═══════════╪═══╪═══════════╪═══════════╪═══════════╪══════════╡\n",
       "│ f1_xmssn_ ┆ 393       ┆ 1994      ┆ Beluga    ┆ … ┆ null      ┆ null      ┆ null      ┆ null     │\n",
       "│ line_1994 ┆           ┆           ┆           ┆   ┆           ┆           ┆           ┆          │\n",
       "│ _12_202_0 ┆           ┆           ┆           ┆   ┆           ┆           ┆           ┆          │\n",
       "│ _1        ┆           ┆           ┆           ┆   ┆           ┆           ┆           ┆          │\n",
       "│ f1_xmssn_ ┆ 393       ┆ 1994      ┆ Beluga    ┆ … ┆ null      ┆ null      ┆ null      ┆ null     │\n",
       "│ line_1994 ┆           ┆           ┆           ┆   ┆           ┆           ┆           ┆          │\n",
       "│ _12_202_0 ┆           ┆           ┆           ┆   ┆           ┆           ┆           ┆          │\n",
       "│ _2        ┆           ┆           ┆           ┆   ┆           ┆           ┆           ┆          │\n",
       "│ f1_xmssn_ ┆ 393       ┆ 1994      ┆ Beluga    ┆ … ┆ null      ┆ null      ┆ null      ┆ null     │\n",
       "│ line_1994 ┆           ┆           ┆           ┆   ┆           ┆           ┆           ┆          │\n",
       "│ _12_202_0 ┆           ┆           ┆           ┆   ┆           ┆           ┆           ┆          │\n",
       "│ _3        ┆           ┆           ┆           ┆   ┆           ┆           ┆           ┆          │\n",
       "│ f1_xmssn_ ┆ 393       ┆ 1994      ┆ Point     ┆ … ┆ null      ┆ null      ┆ null      ┆ null     │\n",
       "│ line_1994 ┆           ┆           ┆ MacKenzie ┆   ┆           ┆           ┆           ┆          │\n",
       "│ _12_202_0 ┆           ┆           ┆           ┆   ┆           ┆           ┆           ┆          │\n",
       "│ _4        ┆           ┆           ┆           ┆   ┆           ┆           ┆           ┆          │\n",
       "│ f1_xmssn_ ┆ 393       ┆ 1994      ┆ Point     ┆ … ┆ null      ┆ null      ┆ null      ┆ null     │\n",
       "│ line_1994 ┆           ┆           ┆ MacKenzie ┆   ┆           ┆           ┆           ┆          │\n",
       "│ _12_202_0 ┆           ┆           ┆           ┆   ┆           ┆           ┆           ┆          │\n",
       "│ _5        ┆           ┆           ┆           ┆   ┆           ┆           ┆           ┆          │\n",
       "│ …         ┆ …         ┆ …         ┆ …         ┆ … ┆ …         ┆ …         ┆ …         ┆ …        │\n",
       "│ transmiss ┆ 393       ┆ 2021      ┆ null      ┆ … ┆ null      ┆ null      ┆ null      ┆ null     │\n",
       "│ ion_line_ ┆           ┆           ┆           ┆   ┆           ┆           ┆           ┆          │\n",
       "│ statistic ┆           ┆           ┆           ┆   ┆           ┆           ┆           ┆          │\n",
       "│ s_4…      ┆           ┆           ┆           ┆   ┆           ┆           ┆           ┆          │\n",
       "│ transmiss ┆ 393       ┆ 2021      ┆ Postmark  ┆ … ┆ null      ┆ null      ┆ null      ┆ null     │\n",
       "│ ion_line_ ┆           ┆           ┆           ┆   ┆           ┆           ┆           ┆          │\n",
       "│ statistic ┆           ┆           ┆           ┆   ┆           ┆           ┆           ┆          │\n",
       "│ s_4…      ┆           ┆           ┆           ┆   ┆           ┆           ┆           ┆          │\n",
       "│ transmiss ┆ 393       ┆ 2021      ┆ 36th Jct  ┆ … ┆ null      ┆ null      ┆ null      ┆ null     │\n",
       "│ ion_line_ ┆           ┆           ┆           ┆   ┆           ┆           ┆           ┆          │\n",
       "│ statistic ┆           ┆           ┆           ┆   ┆           ┆           ┆           ┆          │\n",
       "│ s_4…      ┆           ┆           ┆           ┆   ┆           ┆           ┆           ┆          │\n",
       "│ transmiss ┆ 393       ┆ 2022      ┆ null      ┆ … ┆ null      ┆ null      ┆ null      ┆ 1.154643 │\n",
       "│ ion_line_ ┆           ┆           ┆           ┆   ┆           ┆           ┆           ┆ e6       │\n",
       "│ statistic ┆           ┆           ┆           ┆   ┆           ┆           ┆           ┆          │\n",
       "│ s_4…      ┆           ┆           ┆           ┆   ┆           ┆           ┆           ┆          │\n",
       "│ transmiss ┆ 393       ┆ 2022      ┆ System    ┆ … ┆ 1.149875e ┆ 4768.0    ┆ null      ┆ 1.154643 │\n",
       "│ ion_line_ ┆           ┆           ┆ Total     ┆   ┆ 6         ┆           ┆           ┆ e6       │\n",
       "│ statistic ┆           ┆           ┆           ┆   ┆           ┆           ┆           ┆          │\n",
       "│ s_4…      ┆           ┆           ┆           ┆   ┆           ┆           ┆           ┆          │\n",
       "└───────────┴───────────┴───────────┴───────────┴───┴───────────┴───────────┴───────────┴──────────┘"
      ]
     },
     "execution_count": 6,
     "metadata": {},
     "output_type": "execute_result"
    }
   ],
   "source": [
    "f1_trans_chugach = f1_trans.filter(pl.col('utility_id_ferc1') == pl.select(fuzzy_search)[0,0])\n",
    "f1_trans_chugach"
   ]
  },
  {
   "cell_type": "markdown",
   "metadata": {},
   "source": [
    "# 📝 Write to CSV"
   ]
  },
  {
   "cell_type": "code",
   "execution_count": 7,
   "metadata": {},
   "outputs": [],
   "source": [
    "f1_trans_chugach.write_csv(os.path.join(os.curdir, 'derived-data', 'chugach-transmission-costs.csv'))"
   ]
  }
 ],
 "metadata": {
  "kernelspec": {
   "display_name": ".venv",
   "language": "python",
   "name": "python3"
  },
  "language_info": {
   "codemirror_mode": {
    "name": "ipython",
    "version": 3
   },
   "file_extension": ".py",
   "mimetype": "text/x-python",
   "name": "python",
   "nbconvert_exporter": "python",
   "pygments_lexer": "ipython3",
   "version": "3.12.3"
  }
 },
 "nbformat": 4,
 "nbformat_minor": 2
}
